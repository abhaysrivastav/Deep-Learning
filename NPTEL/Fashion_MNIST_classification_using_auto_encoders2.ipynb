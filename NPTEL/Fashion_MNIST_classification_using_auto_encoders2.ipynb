{
 "cells": [
  {
   "cell_type": "markdown",
   "metadata": {},
   "source": [
    "Load Packages\n",
    "==============="
   ]
  },
  {
   "cell_type": "code",
   "execution_count": 1,
   "metadata": {},
   "outputs": [],
   "source": [
    "%matplotlib inline\n",
    "import os\n",
    "import struct\n",
    "import torch\n",
    "from PIL import Image\n",
    "import matplotlib.pyplot as plt\n",
    "import numpy as np\n",
    "import torchvision\n",
    "from torchvision import datasets"
   ]
  },
  {
   "cell_type": "markdown",
   "metadata": {},
   "source": [
    "Load Data:\n",
    "==============="
   ]
  },
  {
   "cell_type": "code",
   "execution_count": 2,
   "metadata": {},
   "outputs": [],
   "source": [
    "import codecs"
   ]
  },
  {
   "cell_type": "code",
   "execution_count": 3,
   "metadata": {},
   "outputs": [],
   "source": [
    "download = datasets.FashionMNIST('./FMNIST/', train=True, download=True) "
   ]
  },
  {
   "cell_type": "code",
   "execution_count": 10,
   "metadata": {},
   "outputs": [],
   "source": [
    "Datapath = 'FMNIST/FashionMNIST/raw/'"
   ]
  },
  {
   "cell_type": "code",
   "execution_count": 11,
   "metadata": {},
   "outputs": [],
   "source": [
    "def get_int(b):\n",
    "    return int(codecs.encode(b, 'hex'), 16)"
   ]
  },
  {
   "cell_type": "code",
   "execution_count": 12,
   "metadata": {},
   "outputs": [],
   "source": [
    "def parse_byte(b):\n",
    "    if isinstance(b, str):\n",
    "        return ord(b)\n",
    "    return b"
   ]
  },
  {
   "cell_type": "code",
   "execution_count": 13,
   "metadata": {},
   "outputs": [],
   "source": [
    "def read_image_file(path):\n",
    "    with open(path, 'rb') as f:\n",
    "        data = f.read()\n",
    "        assert get_int(data[:4]) == 2051\n",
    "        length = get_int(data[4:8])\n",
    "        num_rows = get_int(data[8:12])\n",
    "        num_cols = get_int(data[12:16])\n",
    "        images = []\n",
    "        idx = 16\n",
    "        for l in range(length):\n",
    "            img = []\n",
    "            images.append(img)\n",
    "            for r in range(num_rows):\n",
    "                row = []\n",
    "                img.append(row)\n",
    "                for c in range(num_cols):\n",
    "                    row.append(parse_byte(data[idx]))\n",
    "                    idx += 1\n",
    "        assert len(images) == length\n",
    "        return torch.ByteTensor(images).view(-1,784)"
   ]
  },
  {
   "cell_type": "code",
   "execution_count": 14,
   "metadata": {},
   "outputs": [],
   "source": [
    "def read_label_file(path):\n",
    "    with open(path, 'rb') as f:\n",
    "        data = f.read()\n",
    "        assert get_int(data[:4]) == 2049\n",
    "        length = get_int(data[4:8])\n",
    "        labels = [parse_byte(b) for b in data[8:]]\n",
    "        assert len(labels) == length\n",
    "        return torch.LongTensor(labels)"
   ]
  },
  {
   "cell_type": "code",
   "execution_count": 15,
   "metadata": {},
   "outputs": [],
   "source": [
    "TrainImages = read_image_file(os.path.join(Datapath, 'train-images-idx3-ubyte'))\n",
    "TrainLabels = read_label_file(os.path.join(Datapath, 'train-labels-idx1-ubyte'))\n",
    "TestImages = read_image_file(os.path.join(Datapath, 't10k-images-idx3-ubyte'))\n",
    "TestLabels = read_label_file(os.path.join(Datapath, 't10k-labels-idx1-ubyte'))"
   ]
  },
  {
   "cell_type": "code",
   "execution_count": 16,
   "metadata": {
    "scrolled": true
   },
   "outputs": [
    {
     "name": "stdout",
     "output_type": "stream",
     "text": [
      "torch.Size([60000, 784])\n",
      "torch.Size([60000])\n",
      "torch.Size([10000, 784])\n",
      "torch.Size([10000])\n"
     ]
    }
   ],
   "source": [
    "print(TrainImages.size())\n",
    "print(TrainLabels.size())\n",
    "print(TestImages.size())\n",
    "print(TestLabels.size())"
   ]
  },
  {
   "cell_type": "code",
   "execution_count": 17,
   "metadata": {},
   "outputs": [],
   "source": [
    "use_gpu = torch.cuda.is_available()"
   ]
  },
  {
   "cell_type": "markdown",
   "metadata": {},
   "source": [
    "Define the Autoencoder:\n",
    "==============="
   ]
  },
  {
   "cell_type": "code",
   "execution_count": 18,
   "metadata": {},
   "outputs": [
    {
     "name": "stdout",
     "output_type": "stream",
     "text": [
      "autoencoder(\n",
      "  (encoder): Sequential(\n",
      "    (0): Linear(in_features=784, out_features=100, bias=True)\n",
      "    (1): ReLU()\n",
      "  )\n",
      "  (decoder): Sequential(\n",
      "    (0): Linear(in_features=100, out_features=784, bias=True)\n",
      "    (1): ReLU()\n",
      "  )\n",
      ")\n"
     ]
    }
   ],
   "source": [
    "from torch.autograd import Variable\n",
    "import torch.nn as nn\n",
    "import torch.nn.functional as F\n",
    "import copy\n",
    "\n",
    "\n",
    "class autoencoder(nn.Module):\n",
    "    def __init__(self):\n",
    "        super(autoencoder, self).__init__()\n",
    "        self.encoder = nn.Sequential(\n",
    "            nn.Linear(28*28, 100),\n",
    "            nn.ReLU())\n",
    "        self.decoder = nn.Sequential(\n",
    "            nn.Linear(100, 28*28),\n",
    "            nn.ReLU())\n",
    "\n",
    "    def forward(self, x):\n",
    "        x = self.encoder(x)\n",
    "        x = self.decoder(x)\n",
    "        return x\n",
    "\n",
    "\n",
    "net = autoencoder()\n",
    "print(net)\n",
    "\n",
    "if use_gpu:\n",
    "    net = net.double().cuda()\n",
    "else:\n",
    "    net = net.double()\n",
    "        \n",
    "init_weights = copy.deepcopy(net.encoder[0].weight.data)"
   ]
  },
  {
   "cell_type": "markdown",
   "metadata": {},
   "source": [
    "Define Optimization Technique:\n",
    "==============="
   ]
  },
  {
   "cell_type": "code",
   "execution_count": 19,
   "metadata": {},
   "outputs": [],
   "source": [
    "import torch.optim as optim\n",
    "\n",
    "criterion = nn.MSELoss()\n",
    "optimizer = optim.SGD(net.parameters(), lr=0.5, momentum=0.9)"
   ]
  },
  {
   "cell_type": "markdown",
   "metadata": {},
   "source": [
    "Train Autoencoder:\n",
    "==========="
   ]
  },
  {
   "cell_type": "code",
   "execution_count": 22,
   "metadata": {},
   "outputs": [
    {
     "name": "stdout",
     "output_type": "stream",
     "text": [
      "At Iteration : 1 / 30  ;  Mean-Squared Error : 0.104054\n",
      "At Iteration : 2 / 30  ;  Mean-Squared Error : 0.065966\n",
      "At Iteration : 3 / 30  ;  Mean-Squared Error : 0.053548\n",
      "At Iteration : 4 / 30  ;  Mean-Squared Error : 0.046709\n",
      "At Iteration : 5 / 30  ;  Mean-Squared Error : 0.043336\n",
      "At Iteration : 6 / 30  ;  Mean-Squared Error : 0.041098\n",
      "At Iteration : 7 / 30  ;  Mean-Squared Error : 0.039761\n",
      "At Iteration : 8 / 30  ;  Mean-Squared Error : 0.038583\n",
      "At Iteration : 9 / 30  ;  Mean-Squared Error : 0.037640\n",
      "At Iteration : 10 / 30  ;  Mean-Squared Error : 0.036554\n",
      "At Iteration : 11 / 30  ;  Mean-Squared Error : 0.035197\n",
      "At Iteration : 12 / 30  ;  Mean-Squared Error : 0.034388\n",
      "At Iteration : 13 / 30  ;  Mean-Squared Error : 0.033925\n",
      "At Iteration : 14 / 30  ;  Mean-Squared Error : 0.033375\n",
      "At Iteration : 15 / 30  ;  Mean-Squared Error : 0.032810\n",
      "At Iteration : 16 / 30  ;  Mean-Squared Error : 0.032317\n",
      "At Iteration : 17 / 30  ;  Mean-Squared Error : 0.031863\n",
      "At Iteration : 18 / 30  ;  Mean-Squared Error : 0.031522\n",
      "At Iteration : 19 / 30  ;  Mean-Squared Error : 0.031214\n",
      "At Iteration : 20 / 30  ;  Mean-Squared Error : 0.030916\n",
      "At Iteration : 21 / 30  ;  Mean-Squared Error : 0.030643\n",
      "At Iteration : 22 / 30  ;  Mean-Squared Error : 0.030393\n",
      "At Iteration : 23 / 30  ;  Mean-Squared Error : 0.030161\n",
      "At Iteration : 24 / 30  ;  Mean-Squared Error : 0.029943\n",
      "At Iteration : 25 / 30  ;  Mean-Squared Error : 0.029738\n",
      "At Iteration : 26 / 30  ;  Mean-Squared Error : 0.029546\n",
      "At Iteration : 27 / 30  ;  Mean-Squared Error : 0.029365\n",
      "At Iteration : 28 / 30  ;  Mean-Squared Error : 0.029195\n",
      "At Iteration : 29 / 30  ;  Mean-Squared Error : 0.029034\n",
      "At Iteration : 30 / 30  ;  Mean-Squared Error : 0.028875\n",
      "Finished Training\n"
     ]
    }
   ],
   "source": [
    "iterations = 30\n",
    "BatchSize = 1000\n",
    "for epoch in range(iterations):\n",
    "    runningLoss = 0\n",
    "    for i in range(TrainImages.size()[0]//BatchSize):\n",
    "        inputs = torch.index_select(TrainImages,0,torch.linspace(i*BatchSize,(i+1)*BatchSize - 1,steps=BatchSize)\n",
    "                                  .long()).double()\n",
    "        inputs = inputs/255\n",
    "        if use_gpu:\n",
    "            inputs = Variable(inputs).cuda()\n",
    "        else:\n",
    "            inputs = Variable(inputs)\n",
    "        optimizer.zero_grad()\n",
    "        outputs = net(inputs)\n",
    "        loss = criterion(outputs, inputs)\n",
    "        loss.backward()\n",
    "        optimizer.step()\n",
    "        runningLoss += loss.data\n",
    "    print('At Iteration : %d / %d  ;  Mean-Squared Error : %f'%(epoch + 1,iterations,runningLoss/\n",
    "                                                                (TrainImages.size()[0]/BatchSize)))\n",
    "print('Finished Training')"
   ]
  },
  {
   "cell_type": "markdown",
   "metadata": {},
   "source": [
    "Testing Autoencoder Performance:\n",
    "================="
   ]
  },
  {
   "cell_type": "code",
   "execution_count": 23,
   "metadata": {},
   "outputs": [
    {
     "data": {
      "image/png": "[encoded data removed]",
      "text/plain": [
       "<Figure size 432x288 with 2 Axes>"
      ]
     },
     "metadata": {
      "needs_background": "light"
     },
     "output_type": "display_data"
    }
   ],
   "source": [
    "TestImg = torch.index_select(TestImages,0,torch.LongTensor([1]))\n",
    "if use_gpu:\n",
    "    outputImg = net(Variable((TestImg.double().cuda())/255)).data\n",
    "    outputImg = (outputImg*255).byte()\n",
    "    outputImg = outputImg.view(-1,28,28).cpu()\n",
    "else:\n",
    "    outputImg = net(Variable((TestImg.double())/255)).data\n",
    "    outputImg = (outputImg*255).byte()\n",
    "    outputImg = outputImg.view(-1,28,28)\n",
    "\n",
    "TestImg = TestImg.view(-1,28,28)\n",
    "\n",
    "fig = plt.figure()\n",
    "plot=fig.add_subplot(1,2,1)\n",
    "img = np.array(TestImg.numpy())[0]\n",
    "plot.set_title('Original Image')\n",
    "imgplot = plt.imshow(img,cmap='gray')\n",
    "\n",
    "plot=fig.add_subplot(1,2,2)\n",
    "img = np.array(outputImg.numpy())[0]\n",
    "plot.set_title('Reconstructed Image')\n",
    "imgplot = plt.imshow(img,cmap='gray')\n",
    "plt.show()\n",
    "\n"
   ]
  },
  {
   "cell_type": "markdown",
   "metadata": {},
   "source": [
    "Adding more Layers:\n",
    "================="
   ]
  },
  {
   "cell_type": "code",
   "execution_count": 24,
   "metadata": {},
   "outputs": [
    {
     "name": "stdout",
     "output_type": "stream",
     "text": [
      "autoencoder(\n",
      "  (encoder): Sequential(\n",
      "    (0): Linear(in_features=784, out_features=100, bias=True)\n",
      "    (1): ReLU()\n",
      "    (layer): Sequential(\n",
      "      (0): Linear(in_features=100, out_features=100, bias=True)\n",
      "      (1): ReLU()\n",
      "      (2): Linear(in_features=100, out_features=100, bias=True)\n",
      "      (3): ReLU()\n",
      "    )\n",
      "  )\n",
      "  (decoder): Sequential(\n",
      "    (0): Linear(in_features=100, out_features=784, bias=True)\n",
      "    (1): ReLU()\n",
      "  )\n",
      ")\n"
     ]
    }
   ],
   "source": [
    "net.encoder.add_module('layer', nn.Sequential(nn.Linear(100, 100),nn.ReLU(),nn.Linear(100, 100),nn.ReLU()))\n",
    "print(net)\n",
    "if use_gpu:\n",
    "    net = net.double().cuda()\n",
    "else:\n",
    "    net = net.double()"
   ]
  },
  {
   "cell_type": "code",
   "execution_count": 26,
   "metadata": {},
   "outputs": [
    {
     "name": "stdout",
     "output_type": "stream",
     "text": [
      "At Iteration : 1 / 30  ;  Mean-Squared Error : 0.114873\n",
      "At Iteration : 2 / 30  ;  Mean-Squared Error : 0.079118\n",
      "At Iteration : 3 / 30  ;  Mean-Squared Error : 0.067747\n",
      "At Iteration : 4 / 30  ;  Mean-Squared Error : 0.060690\n",
      "At Iteration : 5 / 30  ;  Mean-Squared Error : 0.055994\n",
      "At Iteration : 6 / 30  ;  Mean-Squared Error : 0.051834\n",
      "At Iteration : 7 / 30  ;  Mean-Squared Error : 0.049523\n",
      "At Iteration : 8 / 30  ;  Mean-Squared Error : 0.047974\n",
      "At Iteration : 9 / 30  ;  Mean-Squared Error : 0.046922\n",
      "At Iteration : 10 / 30  ;  Mean-Squared Error : 0.045811\n",
      "At Iteration : 11 / 30  ;  Mean-Squared Error : 0.044944\n",
      "At Iteration : 12 / 30  ;  Mean-Squared Error : 0.044067\n",
      "At Iteration : 13 / 30  ;  Mean-Squared Error : 0.043582\n",
      "At Iteration : 14 / 30  ;  Mean-Squared Error : 0.043167\n",
      "At Iteration : 15 / 30  ;  Mean-Squared Error : 0.042456\n",
      "At Iteration : 16 / 30  ;  Mean-Squared Error : 0.041257\n",
      "At Iteration : 17 / 30  ;  Mean-Squared Error : 0.040670\n",
      "At Iteration : 18 / 30  ;  Mean-Squared Error : 0.040286\n",
      "At Iteration : 19 / 30  ;  Mean-Squared Error : 0.039976\n",
      "At Iteration : 20 / 30  ;  Mean-Squared Error : 0.039725\n",
      "At Iteration : 21 / 30  ;  Mean-Squared Error : 0.039500\n",
      "At Iteration : 22 / 30  ;  Mean-Squared Error : 0.039293\n",
      "At Iteration : 23 / 30  ;  Mean-Squared Error : 0.039086\n",
      "At Iteration : 24 / 30  ;  Mean-Squared Error : 0.038880\n",
      "At Iteration : 25 / 30  ;  Mean-Squared Error : 0.038702\n",
      "At Iteration : 26 / 30  ;  Mean-Squared Error : 0.038537\n",
      "At Iteration : 27 / 30  ;  Mean-Squared Error : 0.038360\n",
      "At Iteration : 28 / 30  ;  Mean-Squared Error : 0.038185\n",
      "At Iteration : 29 / 30  ;  Mean-Squared Error : 0.038029\n",
      "At Iteration : 30 / 30  ;  Mean-Squared Error : 0.037882\n",
      "Finished Training\n"
     ]
    }
   ],
   "source": [
    "iterations = 30\n",
    "BatchSize = 1000\n",
    "for epoch in range(iterations):\n",
    "    runningLoss = 0\n",
    "    for i in range(TrainImages.size()[0]//BatchSize):\n",
    "        inputs = torch.index_select(TrainImages,0,torch.linspace(i*BatchSize,(i+1)*BatchSize - 1,steps=BatchSize)\n",
    "                                  .long()).double()\n",
    "        inputs = inputs/255\n",
    "        if use_gpu:\n",
    "            inputs = Variable(inputs).cuda()\n",
    "        else:\n",
    "            inputs = Variable(inputs)\n",
    "        optimizer.zero_grad()\n",
    "        outputs = net(inputs)\n",
    "        loss = criterion(outputs, inputs)\n",
    "        loss.backward()\n",
    "        optimizer.step()\n",
    "        runningLoss += loss.data\n",
    "    print('At Iteration : %d / %d  ;  Mean-Squared Error : %f'%(epoch + 1,iterations,runningLoss/\n",
    "                                                                (TrainImages.size()[0]/BatchSize)))\n",
    "print('Finished Training')"
   ]
  },
  {
   "cell_type": "code",
   "execution_count": 27,
   "metadata": {},
   "outputs": [
    {
     "data": {
      "image/png": "[encoded data removed]",
      "text/plain": [
       "<Figure size 432x288 with 2 Axes>"
      ]
     },
     "metadata": {
      "needs_background": "light"
     },
     "output_type": "display_data"
    }
   ],
   "source": [
    "TestImg = torch.index_select(TestImages,0,torch.LongTensor([1]))\n",
    "if use_gpu:\n",
    "    outputImg = net(Variable((TestImg.double().cuda())/255)).data\n",
    "    outputImg = (outputImg*255).byte()\n",
    "    outputImg = outputImg.view(-1,28,28).cpu()\n",
    "else:\n",
    "    outputImg = net(Variable((TestImg.double())/255)).data\n",
    "    outputImg = (outputImg*255).byte()\n",
    "    outputImg = outputImg.view(-1,28,28)\n",
    "\n",
    "TestImg = TestImg.view(-1,28,28)\n",
    "\n",
    "fig = plt.figure()\n",
    "plot=fig.add_subplot(1,2,1)\n",
    "img = np.array(TestImg.numpy())[0]\n",
    "plot.set_title('Original Image')\n",
    "imgplot = plt.imshow(img,cmap='gray')\n",
    "\n",
    "plot=fig.add_subplot(1,2,2)\n",
    "img = np.array(outputImg.numpy())[0]\n",
    "plot.set_title('Reconstructed Image')\n",
    "imgplot = plt.imshow(img,cmap='gray')\n",
    "plt.show()"
   ]
  },
  {
   "cell_type": "markdown",
   "metadata": {},
   "source": [
    "Remove Decoder and Add Classification Layer: \n",
    "================================"
   ]
  },
  {
   "cell_type": "code",
   "execution_count": 28,
   "metadata": {},
   "outputs": [
    {
     "name": "stdout",
     "output_type": "stream",
     "text": [
      "Sequential(\n",
      "  (0): Linear(in_features=784, out_features=100, bias=True)\n",
      "  (1): ReLU()\n",
      "  (classifier): Sequential(\n",
      "    (0): Linear(in_features=100, out_features=10, bias=True)\n",
      "    (1): LogSoftmax()\n",
      "  )\n",
      ")\n"
     ]
    }
   ],
   "source": [
    "new_classifier = nn.Sequential(*list(net.children())[:-1])\n",
    "new_classifier = nn.Sequential(*list(new_classifier[0].children())[:-1])\n",
    "net = new_classifier\n",
    "net.add_module('classifier', nn.Sequential(nn.Linear(100, 10),nn.LogSoftmax()))\n",
    "print(net)\n",
    "if use_gpu:\n",
    "    net = net.double().cuda()\n",
    "else:\n",
    "    net = net.double()"
   ]
  },
  {
   "cell_type": "markdown",
   "metadata": {},
   "source": [
    "Define Optimizer:\n",
    "================================"
   ]
  },
  {
   "cell_type": "code",
   "execution_count": 29,
   "metadata": {},
   "outputs": [],
   "source": [
    "criterion = nn.NLLLoss()\n",
    "optimizer = optim.SGD(net.parameters(), lr=0.01, momentum=0.9)"
   ]
  },
  {
   "cell_type": "markdown",
   "metadata": {},
   "source": [
    "Train Classifier:\n",
    "==========="
   ]
  },
  {
   "cell_type": "code",
   "execution_count": null,
   "metadata": {},
   "outputs": [
    {
     "name": "stderr",
     "output_type": "stream",
     "text": [
      "C:\\Users\\asrivastava01\\AppData\\Local\\Continuum\\anaconda3\\lib\\site-packages\\torch\\nn\\modules\\container.py:92: UserWarning: Implicit dimension choice for log_softmax has been deprecated. Change the call to include dim=X as an argument.\n",
      "  input = module(input)\n"
     ]
    },
    {
     "name": "stdout",
     "output_type": "stream",
     "text": [
      "At Iteration: 1 / 30  ;  Training Loss: 1.676860 ; Testing Acc: 73.000000 \n",
      "At Iteration: 2 / 30  ;  Training Loss: 0.666953 ; Testing Acc: 77.000000 \n",
      "At Iteration: 3 / 30  ;  Training Loss: 0.609063 ; Testing Acc: 78.000000 \n",
      "At Iteration: 4 / 30  ;  Training Loss: 0.574864 ; Testing Acc: 79.000000 \n",
      "At Iteration: 5 / 30  ;  Training Loss: 0.549581 ; Testing Acc: 80.000000 \n",
      "At Iteration: 6 / 30  ;  Training Loss: 0.529695 ; Testing Acc: 80.000000 \n",
      "At Iteration: 7 / 30  ;  Training Loss: 0.513596 ; Testing Acc: 81.000000 \n",
      "At Iteration: 8 / 30  ;  Training Loss: 0.500235 ; Testing Acc: 81.000000 \n",
      "At Iteration: 9 / 30  ;  Training Loss: 0.488939 ; Testing Acc: 81.000000 \n",
      "At Iteration: 10 / 30  ;  Training Loss: 0.479307 ; Testing Acc: 81.000000 \n",
      "At Iteration: 11 / 30  ;  Training Loss: 0.470946 ; Testing Acc: 82.000000 \n",
      "At Iteration: 12 / 30  ;  Training Loss: 0.463594 ; Testing Acc: 82.000000 \n",
      "At Iteration: 13 / 30  ;  Training Loss: 0.457009 ; Testing Acc: 82.000000 \n",
      "At Iteration: 14 / 30  ;  Training Loss: 0.451053 ; Testing Acc: 82.000000 \n",
      "At Iteration: 15 / 30  ;  Training Loss: 0.445618 ; Testing Acc: 83.000000 \n",
      "At Iteration: 16 / 30  ;  Training Loss: 0.440616 ; Testing Acc: 83.000000 \n",
      "At Iteration: 17 / 30  ;  Training Loss: 0.435950 ; Testing Acc: 83.000000 \n",
      "At Iteration: 18 / 30  ;  Training Loss: 0.431605 ; Testing Acc: 83.000000 \n",
      "At Iteration: 19 / 30  ;  Training Loss: 0.427511 ; Testing Acc: 83.000000 \n"
     ]
    }
   ],
   "source": [
    "iterations = 30\n",
    "BatchSize = 1000\n",
    "for epoch in range(iterations):\n",
    "    runningLoss = 0\n",
    "    for i in range(TrainImages.size()[0]//BatchSize):\n",
    "        inputs = torch.index_select(TrainImages,0,torch.linspace(i*BatchSize,(i+1)*BatchSize - 1,steps=BatchSize)\n",
    "                                  .long()).double()\n",
    "        labels = torch.index_select(TrainLabels,0,torch.linspace(i*BatchSize,(i+1)*BatchSize - 1,steps=BatchSize)\n",
    "                                  .long()).long()\n",
    "        inputs = inputs/255\n",
    "        if use_gpu:\n",
    "            inputs, labels = Variable(inputs.cuda()), Variable(labels.cuda())\n",
    "        else:\n",
    "            inputs, labels = Variable(inputs), Variable(labels)\n",
    "        optimizer.zero_grad()\n",
    "        outputs = net(inputs)\n",
    "        loss = criterion(outputs, labels)\n",
    "        loss.backward()\n",
    "        optimizer.step()\n",
    "        runningLoss += loss.data\n",
    "    inputs = TestImages.double()/255\n",
    "    if use_gpu:\n",
    "        inputs = Variable(inputs.cuda())\n",
    "        outputs = net(inputs)\n",
    "        _, predicted = torch.max(outputs.data, 1)\n",
    "        predicted = predicted.cpu()\n",
    "    else:\n",
    "        inputs = Variable(inputs)\n",
    "        outputs = net(inputs)\n",
    "        _, predicted = torch.max(outputs.data, 1)\n",
    "    correct = 0\n",
    "    total = 0\n",
    "    total += TestLabels.size(0)\n",
    "    correct += (predicted == TestLabels).sum()\n",
    "    print('At Iteration: %d / %d  ;  Training Loss: %f ; Testing Acc: %f '%(epoch + 1,iterations,runningLoss/\n",
    "                                                                            (TrainImages.size()[0]/\n",
    "                                                                             BatchSize),(100 * correct/ float(total))))\n",
    "print('Finished Training')"
   ]
  },
  {
   "cell_type": "code",
   "execution_count": null,
   "metadata": {},
   "outputs": [],
   "source": []
  }
 ],
 "metadata": {
  "kernelspec": {
   "display_name": "Python 3",
   "language": "python",
   "name": "python3"
  },
  "language_info": {
   "codemirror_mode": {
    "name": "ipython",
    "version": 3
   },
   "file_extension": ".py",
   "mimetype": "text/x-python",
   "name": "python",
   "nbconvert_exporter": "python",
   "pygments_lexer": "ipython3",
   "version": "3.7.1"
  }
 },
 "nbformat": 4,
 "nbformat_minor": 1
}
