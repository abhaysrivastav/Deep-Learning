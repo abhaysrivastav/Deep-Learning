{
 "cells": [
  {
   "cell_type": "markdown",
   "metadata": {},
   "source": [
    "Load Packages\n",
    "==============="
   ]
  },
  {
   "cell_type": "code",
   "execution_count": 2,
   "metadata": {},
   "outputs": [],
   "source": [
    "%matplotlib inline\n",
    "import os\n",
    "import struct\n",
    "import torch\n",
    "from PIL import Image\n",
    "import matplotlib.pyplot as plt\n",
    "import numpy as np\n",
    "import torchvision\n",
    "from torchvision import datasets"
   ]
  },
  {
   "cell_type": "markdown",
   "metadata": {},
   "source": [
    "Load Data:\n",
    "==============="
   ]
  },
  {
   "cell_type": "code",
   "execution_count": 3,
   "metadata": {},
   "outputs": [],
   "source": [
    "import codecs"
   ]
  },
  {
   "cell_type": "code",
   "execution_count": 4,
   "metadata": {},
   "outputs": [
    {
     "name": "stdout",
     "output_type": "stream",
     "text": [
      "Downloading http://fashion-mnist.s3-website.eu-central-1.amazonaws.com/train-images-idx3-ubyte.gz to ./FMNIST/FashionMNIST\\raw\\train-images-idx3-ubyte.gz\n"
     ]
    },
    {
     "name": "stderr",
     "output_type": "stream",
     "text": [
      "100%|█████████▉| 26378240/26421880 [00:54<00:00, 605472.87it/s]"
     ]
    },
    {
     "name": "stdout",
     "output_type": "stream",
     "text": [
      "Extracting ./FMNIST/FashionMNIST\\raw\\train-images-idx3-ubyte.gz to ./FMNIST/FashionMNIST\\raw\n",
      "Downloading http://fashion-mnist.s3-website.eu-central-1.amazonaws.com/train-labels-idx1-ubyte.gz to ./FMNIST/FashionMNIST\\raw\\train-labels-idx1-ubyte.gz\n"
     ]
    },
    {
     "name": "stderr",
     "output_type": "stream",
     "text": [
      "\n",
      "0it [00:00, ?it/s]\n",
      "  0%|          | 0/29515 [00:00<?, ?it/s]\n",
      " 56%|█████▌    | 16384/29515 [00:00<00:00, 83796.78it/s]\n",
      "32768it [00:00, 44103.52it/s]                           "
     ]
    },
    {
     "name": "stdout",
     "output_type": "stream",
     "text": [
      "Extracting ./FMNIST/FashionMNIST\\raw\\train-labels-idx1-ubyte.gz to ./FMNIST/FashionMNIST\\raw\n",
      "Downloading http://fashion-mnist.s3-website.eu-central-1.amazonaws.com/t10k-images-idx3-ubyte.gz to ./FMNIST/FashionMNIST\\raw\\t10k-images-idx3-ubyte.gz\n"
     ]
    },
    {
     "name": "stderr",
     "output_type": "stream",
     "text": [
      "\n",
      "0it [00:00, ?it/s]\n",
      "  0%|          | 0/4422102 [00:00<?, ?it/s]\n",
      "  0%|          | 16384/4422102 [00:00<00:55, 79322.15it/s]\n",
      "  1%|          | 40960/4422102 [00:00<00:47, 92946.88it/s]\n",
      "  2%|▏         | 73728/4422102 [00:01<00:37, 116211.11it/s]\n",
      "  2%|▏         | 98304/4422102 [00:01<00:32, 134791.54it/s]\n",
      "  3%|▎         | 131072/4422102 [00:01<00:27, 157940.64it/s]\n",
      "  4%|▍         | 172032/4422102 [00:01<00:23, 182407.31it/s]\n",
      "  5%|▍         | 212992/4422102 [00:01<00:19, 215610.80it/s]\n",
      "  6%|▌         | 245760/4422102 [00:01<00:19, 217999.48it/s]\n",
      "  7%|▋         | 294912/4422102 [00:01<00:17, 240966.17it/s]\n",
      "  8%|▊         | 352256/4422102 [00:01<00:14, 286332.46it/s]\n",
      "  9%|▉         | 409600/4422102 [00:02<00:12, 333249.31it/s]\n",
      " 12%|█▏        | 524288/4422102 [00:02<00:09, 395562.74it/s]\n",
      " 13%|█▎        | 581632/4422102 [00:02<00:11, 343887.90it/s]\n",
      " 14%|█▍        | 630784/4422102 [00:02<00:10, 345746.67it/s]\n",
      " 15%|█▌        | 671744/4422102 [00:02<00:11, 340660.70it/s]\n",
      " 17%|█▋        | 753664/4422102 [00:02<00:08, 407645.41it/s]\n",
      " 19%|█▊        | 819200/4422102 [00:02<00:08, 441358.75it/s]\n",
      " 20%|█▉        | 876544/4422102 [00:03<00:08, 406422.15it/s]\n",
      " 21%|██        | 925696/4422102 [00:03<00:09, 379388.54it/s]\n",
      " 23%|██▎       | 1024000/4422102 [00:03<00:07, 439916.33it/s]\n",
      " 24%|██▍       | 1081344/4422102 [00:03<00:07, 462534.30it/s]\n",
      " 26%|██▌       | 1138688/4422102 [00:03<00:10, 310858.80it/s]\n",
      " 27%|██▋       | 1204224/4422102 [00:03<00:08, 367477.90it/s]\n",
      " 30%|███       | 1343488/4422102 [00:04<00:06, 467215.01it/s]\n",
      " 33%|███▎      | 1449984/4422102 [00:04<00:05, 559098.19it/s]\n",
      " 36%|███▌      | 1572864/4422102 [00:04<00:04, 664330.77it/s]\n",
      " 38%|███▊      | 1687552/4422102 [00:04<00:03, 751359.79it/s]\n",
      " 41%|████      | 1818624/4422102 [00:04<00:03, 855917.08it/s]\n",
      " 44%|████▍     | 1949696/4422102 [00:04<00:02, 923393.95it/s]\n",
      " 47%|████▋     | 2064384/4422102 [00:04<00:02, 953018.71it/s]\n",
      " 49%|████▉     | 2179072/4422102 [00:04<00:02, 961894.52it/s]\n",
      " 52%|█████▏    | 2285568/4422102 [00:04<00:02, 888895.40it/s]\n",
      " 54%|█████▍    | 2392064/4422102 [00:05<00:02, 927258.12it/s]\n",
      " 56%|█████▋    | 2490368/4422102 [00:05<00:02, 901009.39it/s]\n",
      " 59%|█████▊    | 2596864/4422102 [00:05<00:01, 913786.51it/s]\n",
      " 61%|██████    | 2695168/4422102 [00:05<00:01, 879081.10it/s]\n",
      " 63%|██████▎   | 2785280/4422102 [00:05<00:01, 885574.01it/s]\n",
      " 65%|██████▌   | 2891776/4422102 [00:05<00:01, 900070.57it/s]\n",
      " 68%|██████▊   | 2998272/4422102 [00:05<00:01, 939265.24it/s]\n",
      " 70%|███████   | 3096576/4422102 [00:05<00:01, 747762.32it/s]\n",
      " 72%|███████▏  | 3178496/4422102 [00:06<00:02, 592435.88it/s]\n",
      " 75%|███████▍  | 3301376/4422102 [00:06<00:01, 690510.08it/s]\n",
      " 77%|███████▋  | 3391488/4422102 [00:06<00:01, 567418.91it/s]\n",
      " 78%|███████▊  | 3465216/4422102 [00:06<00:01, 547535.19it/s]\n",
      " 80%|███████▉  | 3530752/4422102 [00:06<00:01, 531440.99it/s]\n",
      " 81%|████████▏ | 3596288/4422102 [00:06<00:01, 425367.41it/s]\n",
      " 83%|████████▎ | 3653632/4422102 [00:07<00:01, 455286.69it/s]\n",
      " 84%|████████▍ | 3727360/4422102 [00:07<00:01, 503453.53it/s]\n",
      " 86%|████████▌ | 3784704/4422102 [00:07<00:01, 462949.89it/s]\n",
      " 87%|████████▋ | 3842048/4422102 [00:07<00:01, 337531.87it/s]\n",
      " 88%|████████▊ | 3891200/4422102 [00:07<00:01, 292566.07it/s]\n",
      " 89%|████████▉ | 3932160/4422102 [00:07<00:01, 309413.49it/s]\n",
      " 90%|████████▉ | 3973120/4422102 [00:08<00:01, 322728.18it/s]\n",
      " 92%|█████████▏| 4046848/4422102 [00:08<00:00, 381859.95it/s]\n",
      " 94%|█████████▎| 4136960/4422102 [00:08<00:00, 450393.51it/s]\n",
      " 95%|█████████▍| 4194304/4422102 [00:08<00:00, 405997.94it/s]\n",
      " 96%|█████████▌| 4243456/4422102 [00:08<00:00, 412651.63it/s]\n",
      " 98%|█████████▊| 4333568/4422102 [00:08<00:00, 468505.33it/s]\n",
      " 99%|█████████▉| 4399104/4422102 [00:08<00:00, 510590.55it/s]"
     ]
    },
    {
     "name": "stdout",
     "output_type": "stream",
     "text": [
      "Extracting ./FMNIST/FashionMNIST\\raw\\t10k-images-idx3-ubyte.gz to ./FMNIST/FashionMNIST\\raw\n",
      "Downloading http://fashion-mnist.s3-website.eu-central-1.amazonaws.com/t10k-labels-idx1-ubyte.gz to ./FMNIST/FashionMNIST\\raw\\t10k-labels-idx1-ubyte.gz\n"
     ]
    },
    {
     "name": "stderr",
     "output_type": "stream",
     "text": [
      "\n",
      "\n",
      "0it [00:00, ?it/s]\n",
      "\n",
      "  0%|          | 0/5148 [00:00<?, ?it/s]\n",
      "\n",
      "8192it [00:00, 12591.86it/s]            "
     ]
    },
    {
     "name": "stdout",
     "output_type": "stream",
     "text": [
      "Extracting ./FMNIST/FashionMNIST\\raw\\t10k-labels-idx1-ubyte.gz to ./FMNIST/FashionMNIST\\raw\n",
      "Processing...\n",
      "Done!\n"
     ]
    },
    {
     "name": "stderr",
     "output_type": "stream",
     "text": [
      "26427392it [01:10, 605472.87it/s]                              \n",
      "4423680it [00:22, 510590.55it/s]                             "
     ]
    }
   ],
   "source": [
    "download = datasets.FashionMNIST('./FMNIST/', train=True, download=True) "
   ]
  },
  {
   "cell_type": "code",
   "execution_count": 11,
   "metadata": {},
   "outputs": [],
   "source": [
    "Datapath = 'FMNIST/FashionMNIST/raw/'"
   ]
  },
  {
   "cell_type": "code",
   "execution_count": 12,
   "metadata": {},
   "outputs": [],
   "source": [
    "def get_int(b):\n",
    "    return int(codecs.encode(b, 'hex'), 16)"
   ]
  },
  {
   "cell_type": "code",
   "execution_count": 13,
   "metadata": {},
   "outputs": [],
   "source": [
    "def parse_byte(b):\n",
    "    if isinstance(b, str):\n",
    "        return ord(b)\n",
    "    return b"
   ]
  },
  {
   "cell_type": "code",
   "execution_count": 14,
   "metadata": {},
   "outputs": [],
   "source": [
    "def read_image_file(path):\n",
    "    with open(path, 'rb') as f:\n",
    "        data = f.read()\n",
    "        assert get_int(data[:4]) == 2051\n",
    "        length = get_int(data[4:8])\n",
    "        num_rows = get_int(data[8:12])\n",
    "        num_cols = get_int(data[12:16])\n",
    "        images = []\n",
    "        idx = 16\n",
    "        for l in range(length):\n",
    "            img = []\n",
    "            images.append(img)\n",
    "            for r in range(num_rows):\n",
    "                row = []\n",
    "                img.append(row)\n",
    "                for c in range(num_cols):\n",
    "                    row.append(parse_byte(data[idx]))\n",
    "                    idx += 1\n",
    "        assert len(images) == length\n",
    "        return torch.ByteTensor(images).view(-1,784)"
   ]
  },
  {
   "cell_type": "code",
   "execution_count": 15,
   "metadata": {},
   "outputs": [],
   "source": [
    "def read_label_file(path):\n",
    "    with open(path, 'rb') as f:\n",
    "        data = f.read()\n",
    "        assert get_int(data[:4]) == 2049\n",
    "        length = get_int(data[4:8])\n",
    "        labels = [parse_byte(b) for b in data[8:]]\n",
    "        assert len(labels) == length\n",
    "        return torch.LongTensor(labels)"
   ]
  },
  {
   "cell_type": "code",
   "execution_count": 16,
   "metadata": {},
   "outputs": [],
   "source": [
    "TrainImages = read_image_file(os.path.join(Datapath, 'train-images-idx3-ubyte'))\n",
    "TrainLabels = read_label_file(os.path.join(Datapath, 'train-labels-idx1-ubyte'))\n",
    "TestImages = read_image_file(os.path.join(Datapath, 't10k-images-idx3-ubyte'))\n",
    "TestLabels = read_label_file(os.path.join(Datapath, 't10k-labels-idx1-ubyte'))"
   ]
  },
  {
   "cell_type": "code",
   "execution_count": 17,
   "metadata": {
    "scrolled": true
   },
   "outputs": [
    {
     "name": "stdout",
     "output_type": "stream",
     "text": [
      "torch.Size([60000, 784])\n",
      "torch.Size([60000])\n",
      "torch.Size([10000, 784])\n",
      "torch.Size([10000])\n"
     ]
    }
   ],
   "source": [
    "print(TrainImages.size())\n",
    "print(TrainLabels.size())\n",
    "print(TestImages.size())\n",
    "print(TestLabels.size())"
   ]
  },
  {
   "cell_type": "code",
   "execution_count": 18,
   "metadata": {},
   "outputs": [],
   "source": [
    "use_gpu = torch.cuda.is_available()"
   ]
  },
  {
   "cell_type": "markdown",
   "metadata": {},
   "source": [
    "Define the Autoencoder:\n",
    "==============="
   ]
  },
  {
   "cell_type": "code",
   "execution_count": 19,
   "metadata": {},
   "outputs": [
    {
     "name": "stdout",
     "output_type": "stream",
     "text": [
      "autoencoder(\n",
      "  (encoder): Sequential(\n",
      "    (0): Linear(in_features=784, out_features=100, bias=True)\n",
      "    (1): ReLU()\n",
      "    (2): Linear(in_features=100, out_features=100, bias=True)\n",
      "    (3): ReLU()\n",
      "  )\n",
      "  (decoder): Sequential(\n",
      "    (0): Linear(in_features=100, out_features=100, bias=True)\n",
      "    (1): ReLU()\n",
      "    (2): Linear(in_features=100, out_features=784, bias=True)\n",
      "    (3): ReLU()\n",
      "  )\n",
      ")\n"
     ]
    }
   ],
   "source": [
    "from torch.autograd import Variable\n",
    "import torch.nn as nn\n",
    "import torch.nn.functional as F\n",
    "import copy\n",
    "\n",
    "\n",
    "class autoencoder(nn.Module):\n",
    "    def __init__(self):\n",
    "        super(autoencoder, self).__init__()\n",
    "        self.encoder = nn.Sequential(\n",
    "            nn.Linear(28*28, 100),\n",
    "            nn.ReLU(),\n",
    "            nn.Linear(100, 100),\n",
    "            nn.ReLU())\n",
    "        self.decoder = nn.Sequential(\n",
    "            nn.Linear(100, 100),\n",
    "            nn.ReLU(),\n",
    "            nn.Linear(100, 28*28),\n",
    "            nn.ReLU())\n",
    "\n",
    "    def forward(self, x):\n",
    "        x = self.encoder(x)\n",
    "        x = self.decoder(x)\n",
    "        return x\n",
    "\n",
    "\n",
    "net = autoencoder()\n",
    "print(net)\n",
    "\n",
    "if use_gpu:\n",
    "    net = net.double().cuda()\n",
    "else:\n",
    "    net = net.double()\n",
    "        \n",
    "init_weights = copy.deepcopy(net.encoder[0].weight.data)"
   ]
  },
  {
   "cell_type": "markdown",
   "metadata": {},
   "source": [
    "Define Optimization Technique:\n",
    "==============="
   ]
  },
  {
   "cell_type": "code",
   "execution_count": 20,
   "metadata": {},
   "outputs": [],
   "source": [
    "import torch.optim as optim\n",
    "\n",
    "criterion = nn.MSELoss()\n",
    "optimizer = optim.SGD(net.parameters(), lr=0.5, momentum=0.9)"
   ]
  },
  {
   "cell_type": "markdown",
   "metadata": {},
   "source": [
    "Train Autoencoder:\n",
    "==========="
   ]
  },
  {
   "cell_type": "code",
   "execution_count": 23,
   "metadata": {},
   "outputs": [
    {
     "name": "stdout",
     "output_type": "stream",
     "text": [
      "At Iteration : 1 / 30  ;  Mean-Squared Error : 0.128251\n",
      "At Iteration : 2 / 30  ;  Mean-Squared Error : 0.088749\n",
      "At Iteration : 3 / 30  ;  Mean-Squared Error : 0.071165\n",
      "At Iteration : 4 / 30  ;  Mean-Squared Error : 0.063504\n",
      "At Iteration : 5 / 30  ;  Mean-Squared Error : 0.057229\n",
      "At Iteration : 6 / 30  ;  Mean-Squared Error : 0.052703\n",
      "At Iteration : 7 / 30  ;  Mean-Squared Error : 0.049458\n",
      "At Iteration : 8 / 30  ;  Mean-Squared Error : 0.046539\n",
      "At Iteration : 9 / 30  ;  Mean-Squared Error : 0.044796\n",
      "At Iteration : 10 / 30  ;  Mean-Squared Error : 0.043614\n",
      "At Iteration : 11 / 30  ;  Mean-Squared Error : 0.042054\n",
      "At Iteration : 12 / 30  ;  Mean-Squared Error : 0.040984\n",
      "At Iteration : 13 / 30  ;  Mean-Squared Error : 0.040251\n",
      "At Iteration : 14 / 30  ;  Mean-Squared Error : 0.039369\n",
      "At Iteration : 15 / 30  ;  Mean-Squared Error : 0.038914\n",
      "At Iteration : 16 / 30  ;  Mean-Squared Error : 0.038536\n",
      "At Iteration : 17 / 30  ;  Mean-Squared Error : 0.038047\n",
      "At Iteration : 18 / 30  ;  Mean-Squared Error : 0.036983\n",
      "At Iteration : 19 / 30  ;  Mean-Squared Error : 0.036573\n",
      "At Iteration : 20 / 30  ;  Mean-Squared Error : 0.036282\n",
      "At Iteration : 21 / 30  ;  Mean-Squared Error : 0.036010\n",
      "At Iteration : 22 / 30  ;  Mean-Squared Error : 0.035755\n",
      "At Iteration : 23 / 30  ;  Mean-Squared Error : 0.035518\n",
      "At Iteration : 24 / 30  ;  Mean-Squared Error : 0.035250\n",
      "At Iteration : 25 / 30  ;  Mean-Squared Error : 0.034664\n",
      "At Iteration : 26 / 30  ;  Mean-Squared Error : 0.034423\n",
      "At Iteration : 27 / 30  ;  Mean-Squared Error : 0.034122\n",
      "At Iteration : 28 / 30  ;  Mean-Squared Error : 0.033913\n",
      "At Iteration : 29 / 30  ;  Mean-Squared Error : 0.033468\n",
      "At Iteration : 30 / 30  ;  Mean-Squared Error : 0.033057\n",
      "Finished Training\n"
     ]
    }
   ],
   "source": [
    "iterations = 30\n",
    "BatchSize = 1000\n",
    "for epoch in range(iterations):\n",
    "    runningLoss = 0\n",
    "    for i in range(TrainImages.size()[0]//BatchSize):\n",
    "        inputs = torch.index_select(TrainImages,0,torch.linspace(i*BatchSize,(i+1)*BatchSize - 1,steps=BatchSize)\n",
    "                                  .long()).double()\n",
    "        inputs = inputs/255\n",
    "        if use_gpu:\n",
    "            inputs = Variable(inputs).cuda()\n",
    "        else:\n",
    "            inputs = Variable(inputs)\n",
    "        optimizer.zero_grad()\n",
    "        outputs = net(inputs)\n",
    "        loss = criterion(outputs, inputs)\n",
    "        loss.backward()\n",
    "        optimizer.step()\n",
    "        runningLoss += loss.data\n",
    "    print('At Iteration : %d / %d  ;  Mean-Squared Error : %f'%(epoch + 1,iterations,runningLoss/\n",
    "                                                                (TrainImages.size()[0]/BatchSize)))\n",
    "print('Finished Training')"
   ]
  },
  {
   "cell_type": "markdown",
   "metadata": {},
   "source": [
    "Testing Autoencoder Performance:\n",
    "================="
   ]
  },
  {
   "cell_type": "code",
   "execution_count": 24,
   "metadata": {},
   "outputs": [
    {
     "data": {
      "image/png": "[encoded data removed]",
      "text/plain": [
       "<Figure size 432x288 with 2 Axes>"
      ]
     },
     "metadata": {
      "needs_background": "light"
     },
     "output_type": "display_data"
    }
   ],
   "source": [
    "TestImg = torch.index_select(TestImages,0,torch.LongTensor([1]))\n",
    "if use_gpu:\n",
    "    outputImg = net(Variable((TestImg.double().cuda())/255)).data\n",
    "    outputImg = (outputImg*255).byte()\n",
    "    outputImg = outputImg.view(-1,28,28).cpu()\n",
    "else:\n",
    "    outputImg = net(Variable((TestImg.double())/255)).data\n",
    "    outputImg = (outputImg*255).byte()\n",
    "    outputImg = outputImg.view(-1,28,28)\n",
    "\n",
    "TestImg = TestImg.view(-1,28,28)\n",
    "\n",
    "fig = plt.figure()\n",
    "plot=fig.add_subplot(1,2,1)\n",
    "img = np.array(TestImg.numpy())[0]\n",
    "plot.set_title('Original Image')\n",
    "imgplot = plt.imshow(img,cmap='gray')\n",
    "\n",
    "plot=fig.add_subplot(1,2,2)\n",
    "img = np.array(outputImg.numpy())[0]\n",
    "plot.set_title('Reconstructed Image')\n",
    "imgplot = plt.imshow(img,cmap='gray')\n",
    "plt.show()\n",
    "\n"
   ]
  },
  {
   "cell_type": "markdown",
   "metadata": {},
   "source": [
    "Encoder Weights Visualization:\n",
    "======================="
   ]
  },
  {
   "cell_type": "code",
   "execution_count": 25,
   "metadata": {},
   "outputs": [],
   "source": [
    "trained_weights = copy.deepcopy(net.encoder[0].weight.data)"
   ]
  },
  {
   "cell_type": "code",
   "execution_count": 26,
   "metadata": {},
   "outputs": [
    {
     "data": {
      "image/png": "[encoded data removed]",
      "text/plain": [
       "<Figure size 432x288 with 3 Axes>"
      ]
     },
     "metadata": {
      "needs_background": "light"
     },
     "output_type": "display_data"
    }
   ],
   "source": [
    "init_weights = (1 + init_weights)*127.5\n",
    "trained_weights = (1 + trained_weights)*127.5\n",
    "\n",
    "\n",
    "if use_gpu:\n",
    "    init_weights = init_weights.view(-1,280,280).byte().cpu()\n",
    "    trained_weights = trained_weights.view(-1,280,280).byte().cpu()\n",
    "else:\n",
    "    init_weights = init_weights.view(-1,280,280).byte()\n",
    "    trained_weights = trained_weights.view(-1,280,280).byte()\n",
    "\n",
    "d_weights = init_weights - trained_weights \n",
    "\n",
    "fig = plt.figure()\n",
    "plot=fig.add_subplot(1,3,1)\n",
    "img = np.array(init_weights.numpy())[0]\n",
    "plot.set_title('Initial Weights')\n",
    "imgplot = plt.imshow(img,cmap='gray')\n",
    "\n",
    "plot=fig.add_subplot(1,3,2)\n",
    "img = np.array(trained_weights.numpy())[0]\n",
    "plot.set_title('Trained Weights')\n",
    "imgplot = plt.imshow(img,cmap='gray')\n",
    "\n",
    "plot=fig.add_subplot(1,3,3)\n",
    "img = np.array(d_weights.numpy())[0]\n",
    "plot.set_title('Weight update')\n",
    "imgplot = plt.imshow(img,cmap='gray')\n",
    "plt.show()"
   ]
  },
  {
   "cell_type": "markdown",
   "metadata": {},
   "source": [
    "Remove Decoder and Add Classification Layer: \n",
    "================================"
   ]
  },
  {
   "cell_type": "code",
   "execution_count": 27,
   "metadata": {},
   "outputs": [
    {
     "name": "stdout",
     "output_type": "stream",
     "text": [
      "Sequential(\n",
      "  (0): Sequential(\n",
      "    (0): Linear(in_features=784, out_features=100, bias=True)\n",
      "    (1): ReLU()\n",
      "    (2): Linear(in_features=100, out_features=100, bias=True)\n",
      "    (3): ReLU()\n",
      "  )\n",
      "  (classifier): Sequential(\n",
      "    (0): Linear(in_features=100, out_features=10, bias=True)\n",
      "    (1): LogSoftmax()\n",
      "  )\n",
      ")\n"
     ]
    }
   ],
   "source": [
    "new_classifier = nn.Sequential(*list(net.children())[:-1])\n",
    "net = new_classifier\n",
    "net.add_module('classifier', nn.Sequential(nn.Linear(100, 10),nn.LogSoftmax()))\n",
    "print(net)\n",
    "if use_gpu:\n",
    "    net = net.double().cuda()\n",
    "else:\n",
    "    net = net.double()\n",
    "cll_weights = copy.deepcopy(net[0][0].weight.data)\n",
    "init_classifier_weights = copy.deepcopy(net.classifier[0].weight.data)"
   ]
  },
  {
   "cell_type": "markdown",
   "metadata": {},
   "source": [
    "Define Optimizer:\n",
    "================================"
   ]
  },
  {
   "cell_type": "code",
   "execution_count": 28,
   "metadata": {},
   "outputs": [],
   "source": [
    "criterion = nn.NLLLoss()\n",
    "optimizer = optim.SGD(net.parameters(), lr=0.01, momentum=0.9)"
   ]
  },
  {
   "cell_type": "markdown",
   "metadata": {},
   "source": [
    "Train Classifier:\n",
    "==========="
   ]
  },
  {
   "cell_type": "code",
   "execution_count": 31,
   "metadata": {},
   "outputs": [
    {
     "name": "stdout",
     "output_type": "stream",
     "text": [
      "At Iteration: 1 / 30  ;  Training Loss: 1.181214 ; Testing Acc: 71.000000 \n",
      "At Iteration: 2 / 30  ;  Training Loss: 0.694062 ; Testing Acc: 76.000000 \n",
      "At Iteration: 3 / 30  ;  Training Loss: 0.610011 ; Testing Acc: 79.000000 \n",
      "At Iteration: 4 / 30  ;  Training Loss: 0.562198 ; Testing Acc: 80.000000 \n",
      "At Iteration: 5 / 30  ;  Training Loss: 0.530239 ; Testing Acc: 80.000000 \n",
      "At Iteration: 6 / 30  ;  Training Loss: 0.507263 ; Testing Acc: 81.000000 \n",
      "At Iteration: 7 / 30  ;  Training Loss: 0.490046 ; Testing Acc: 81.000000 \n",
      "At Iteration: 8 / 30  ;  Training Loss: 0.476550 ; Testing Acc: 82.000000 \n",
      "At Iteration: 9 / 30  ;  Training Loss: 0.465461 ; Testing Acc: 82.000000 \n",
      "At Iteration: 10 / 30  ;  Training Loss: 0.455976 ; Testing Acc: 82.000000 \n",
      "At Iteration: 11 / 30  ;  Training Loss: 0.447570 ; Testing Acc: 82.000000 \n",
      "At Iteration: 12 / 30  ;  Training Loss: 0.439895 ; Testing Acc: 82.000000 \n",
      "At Iteration: 13 / 30  ;  Training Loss: 0.432960 ; Testing Acc: 83.000000 \n",
      "At Iteration: 14 / 30  ;  Training Loss: 0.426621 ; Testing Acc: 83.000000 \n",
      "At Iteration: 15 / 30  ;  Training Loss: 0.420829 ; Testing Acc: 83.000000 \n",
      "At Iteration: 16 / 30  ;  Training Loss: 0.415442 ; Testing Acc: 83.000000 \n",
      "At Iteration: 17 / 30  ;  Training Loss: 0.410263 ; Testing Acc: 84.000000 \n",
      "At Iteration: 18 / 30  ;  Training Loss: 0.405252 ; Testing Acc: 84.000000 \n",
      "At Iteration: 19 / 30  ;  Training Loss: 0.400645 ; Testing Acc: 84.000000 \n",
      "At Iteration: 20 / 30  ;  Training Loss: 0.396288 ; Testing Acc: 84.000000 \n",
      "At Iteration: 21 / 30  ;  Training Loss: 0.391962 ; Testing Acc: 84.000000 \n",
      "At Iteration: 22 / 30  ;  Training Loss: 0.387673 ; Testing Acc: 84.000000 \n",
      "At Iteration: 23 / 30  ;  Training Loss: 0.383815 ; Testing Acc: 84.000000 \n",
      "At Iteration: 24 / 30  ;  Training Loss: 0.380087 ; Testing Acc: 85.000000 \n",
      "At Iteration: 25 / 30  ;  Training Loss: 0.376522 ; Testing Acc: 85.000000 \n",
      "At Iteration: 26 / 30  ;  Training Loss: 0.373117 ; Testing Acc: 85.000000 \n",
      "At Iteration: 27 / 30  ;  Training Loss: 0.369886 ; Testing Acc: 85.000000 \n",
      "At Iteration: 28 / 30  ;  Training Loss: 0.366811 ; Testing Acc: 85.000000 \n",
      "At Iteration: 29 / 30  ;  Training Loss: 0.363757 ; Testing Acc: 85.000000 \n",
      "At Iteration: 30 / 30  ;  Training Loss: 0.360829 ; Testing Acc: 85.000000 \n",
      "Finished Training\n"
     ]
    }
   ],
   "source": [
    "iterations = 30\n",
    "BatchSize = 1000\n",
    "for epoch in range(iterations):\n",
    "    runningLoss = 0\n",
    "    for i in range(TrainImages.size()[0]//BatchSize):\n",
    "        inputs = torch.index_select(TrainImages,0,torch.linspace(i*BatchSize,(i+1)*BatchSize - 1,steps=BatchSize)\n",
    "                                  .long()).double()\n",
    "        labels = torch.index_select(TrainLabels,0,torch.linspace(i*BatchSize,(i+1)*BatchSize - 1,steps=BatchSize)\n",
    "                                  .long()).long()\n",
    "        inputs = inputs/255\n",
    "        if use_gpu:\n",
    "            inputs, labels = Variable(inputs.cuda()), Variable(labels.cuda())\n",
    "        else:\n",
    "            inputs, labels = Variable(inputs), Variable(labels)\n",
    "        optimizer.zero_grad()\n",
    "        outputs = net(inputs)\n",
    "        loss = criterion(outputs, labels)\n",
    "        loss.backward()\n",
    "        optimizer.step()\n",
    "        runningLoss += loss.data\n",
    "    inputs = TestImages.double()/255\n",
    "    if use_gpu:\n",
    "        inputs = Variable(inputs.cuda())\n",
    "        outputs = net(inputs)\n",
    "        _, predicted = torch.max(outputs.data, 1)\n",
    "        predicted = predicted.cpu()\n",
    "    else:\n",
    "        inputs = Variable(inputs)\n",
    "        outputs = net(inputs)\n",
    "        _, predicted = torch.max(outputs.data, 1)\n",
    "    correct = 0\n",
    "    total = 0\n",
    "    total += TestLabels.size(0)\n",
    "    correct += (predicted == TestLabels).sum()\n",
    "    print('At Iteration: %d / %d  ;  Training Loss: %f ; Testing Acc: %f '%(epoch + 1,iterations,runningLoss/\n",
    "                                                                            (TrainImages.size()[0]/\n",
    "                                                                             BatchSize),(100 * correct/ float(total))))\n",
    "print('Finished Training')"
   ]
  },
  {
   "cell_type": "markdown",
   "metadata": {},
   "source": [
    "Encoder Weights Visualization:\n",
    "======================="
   ]
  },
  {
   "cell_type": "code",
   "execution_count": 32,
   "metadata": {},
   "outputs": [],
   "source": [
    "cll_weights_ft = copy.deepcopy(net[0][0].weight.data)"
   ]
  },
  {
   "cell_type": "code",
   "execution_count": 33,
   "metadata": {},
   "outputs": [
    {
     "data": {
      "image/png": "[encoded data removed]",
      "text/plain": [
       "<Figure size 432x288 with 3 Axes>"
      ]
     },
     "metadata": {
      "needs_background": "light"
     },
     "output_type": "display_data"
    }
   ],
   "source": [
    "cll_weights = (1 + cll_weights)*127.5\n",
    "cll_weights_ft = (1 + cll_weights_ft)*127.5\n",
    "\n",
    "if use_gpu:\n",
    "    cll_weights = cll_weights.view(-1,280,280).byte().cpu()\n",
    "    cll_weights_ft = cll_weights_ft.view(-1,280,280).byte().cpu()\n",
    "else:\n",
    "    cll_weights = cll_weights.view(-1,280,280).byte()\n",
    "    cll_weights_ft = cll_weights_ft.view(-1,280,280).byte()\n",
    "\n",
    "d_weights = cll_weights - cll_weights_ft\n",
    "\n",
    "fig = plt.figure()\n",
    "plot=fig.add_subplot(1,3,1)\n",
    "img = np.array(cll_weights.numpy())[0]\n",
    "plot.set_title('Encoder Weights')\n",
    "imgplot = plt.imshow(img,cmap='gray')\n",
    "\n",
    "plot=fig.add_subplot(1,3,2)\n",
    "img = np.array(cll_weights_ft.numpy())[0]\n",
    "plot.set_title('Finetuned Weights')\n",
    "imgplot = plt.imshow(img,cmap='gray')\n",
    "\n",
    "plot=fig.add_subplot(1,3,3)\n",
    "img = np.array(d_weights.numpy())[0]\n",
    "plot.set_title('Weight update')\n",
    "imgplot = plt.imshow(img,cmap='gray')\n",
    "plt.show()"
   ]
  },
  {
   "cell_type": "markdown",
   "metadata": {},
   "source": [
    "Classifier Weights Visualization:\n",
    "======================="
   ]
  },
  {
   "cell_type": "code",
   "execution_count": 34,
   "metadata": {},
   "outputs": [],
   "source": [
    "trained_classifier_weights = copy.deepcopy(net.classifier[0].weight.data)"
   ]
  },
  {
   "cell_type": "code",
   "execution_count": 35,
   "metadata": {},
   "outputs": [
    {
     "data": {
      "image/png": "[encoded data removed]",
      "text/plain": [
       "<Figure size 432x288 with 3 Axes>"
      ]
     },
     "metadata": {
      "needs_background": "light"
     },
     "output_type": "display_data"
    }
   ],
   "source": [
    "init_classifier_weights = (1 + init_classifier_weights)*255\n",
    "trained_classifier_weights = (1 + trained_classifier_weights)*255\n",
    "\n",
    "if use_gpu:\n",
    "    init_classifier_weights = init_classifier_weights.view(-1,40,25).byte().cpu()\n",
    "    trained_classifier_weights = trained_classifier_weights.view(-1,40,25).byte().cpu()\n",
    "else:\n",
    "    init_classifier_weights = init_classifier_weights.view(-1,40,25).byte()\n",
    "    trained_classifier_weights = trained_classifier_weights.view(-1,40,25).byte()\n",
    "\n",
    "d_weights = init_classifier_weights - trained_classifier_weights\n",
    "\n",
    "fig = plt.figure()\n",
    "plot=fig.add_subplot(1,3,1)\n",
    "img = np.array(init_classifier_weights.numpy())[0]\n",
    "plot.set_title('Initial Weights')\n",
    "imgplot = plt.imshow(img,cmap='gray')\n",
    "\n",
    "plot=fig.add_subplot(1,3,2)\n",
    "img = np.array(trained_classifier_weights.numpy())[0]\n",
    "plot.set_title('Trained Weights')\n",
    "imgplot = plt.imshow(img,cmap='gray')\n",
    "\n",
    "plot=fig.add_subplot(1,3,3)\n",
    "img = np.array(d_weights.numpy())[0]\n",
    "plot.set_title('Weight update')\n",
    "imgplot = plt.imshow(img,cmap='gray')\n",
    "plt.show()"
   ]
  },
  {
   "cell_type": "code",
   "execution_count": null,
   "metadata": {},
   "outputs": [],
   "source": []
  }
 ],
 "metadata": {
  "kernelspec": {
   "display_name": "Python 3",
   "language": "python",
   "name": "python3"
  },
  "language_info": {
   "codemirror_mode": {
    "name": "ipython",
    "version": 3
   },
   "file_extension": ".py",
   "mimetype": "text/x-python",
   "name": "python",
   "nbconvert_exporter": "python",
   "pygments_lexer": "ipython3",
   "version": "3.7.1"
  }
 },
 "nbformat": 4,
 "nbformat_minor": 1
}
