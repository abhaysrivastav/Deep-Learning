{
 "cells": [
  {
   "cell_type": "markdown",
   "metadata": {},
   "source": [
    "# A Simple Autoencoder\n",
    "\n",
    "We'll start off by building a simple autoencoder to compress the MNIST dataset. With autoencoders, we pass input data through an encoder that makes a compressed representation of the input. Then, this representation is passed through a decoder to reconstruct the input data. Generally the encoder and decoder will be built with neural networks, then trained on example data.\n",
    "\n",
    "<img src='notebook_ims/autoencoder_1.png' />\n",
    "\n",
    "### Compressed Representation\n",
    "\n",
    "A compressed representation can be great for saving and sharing any kind of data in a way that is more efficient than storing raw data. In practice, the compressed representation often holds key information about an input image and we can use it for denoising images or oher kinds of reconstruction and transformation!\n",
    "\n",
    "<img src='notebook_ims/denoising.png' width=60%/>\n",
    "\n",
    "In this notebook, we'll be build a simple network architecture for the encoder and decoder. Let's get started by importing our libraries and getting the dataset."
   ]
  },
  {
   "cell_type": "code",
   "execution_count": 1,
   "metadata": {},
   "outputs": [
    {
     "name": "stdout",
     "output_type": "stream",
     "text": [
      "Downloading http://yann.lecun.com/exdb/mnist/train-images-idx3-ubyte.gz to data\\MNIST\\raw\\train-images-idx3-ubyte.gz\n"
     ]
    },
    {
     "name": "stderr",
     "output_type": "stream",
     "text": [
      "100%|█████████▉| 9887744/9912422 [00:37<00:00, 459822.99it/s]"
     ]
    },
    {
     "name": "stdout",
     "output_type": "stream",
     "text": [
      "Extracting data\\MNIST\\raw\\train-images-idx3-ubyte.gz to data\\MNIST\\raw\n",
      "Downloading http://yann.lecun.com/exdb/mnist/train-labels-idx1-ubyte.gz to data\\MNIST\\raw\\train-labels-idx1-ubyte.gz\n"
     ]
    },
    {
     "name": "stderr",
     "output_type": "stream",
     "text": [
      "\n",
      "0it [00:00, ?it/s]\n",
      "  0%|          | 0/28881 [00:01<?, ?it/s]\n",
      " 57%|█████▋    | 16384/28881 [00:01<00:00, 41504.06it/s]"
     ]
    },
    {
     "name": "stdout",
     "output_type": "stream",
     "text": [
      "Extracting data\\MNIST\\raw\\train-labels-idx1-ubyte.gz to data\\MNIST\\raw\n",
      "Downloading http://yann.lecun.com/exdb/mnist/t10k-images-idx3-ubyte.gz to data\\MNIST\\raw\\t10k-images-idx3-ubyte.gz\n"
     ]
    },
    {
     "name": "stderr",
     "output_type": "stream",
     "text": [
      "\n",
      "\n",
      "0it [00:00, ?it/s]\n",
      "\n",
      "  0%|          | 0/1648877 [00:01<?, ?it/s]\n",
      "\n",
      "  1%|          | 16384/1648877 [00:01<01:04, 25488.94it/s]\n",
      "\n",
      "  2%|▏         | 32768/1648877 [00:01<00:47, 33927.97it/s]\n",
      "\n",
      "  2%|▏         | 40960/1648877 [00:02<00:47, 34060.63it/s]\n",
      "\n",
      "  5%|▍         | 81920/1648877 [00:02<00:33, 46790.05it/s]\n",
      "\n",
      "  6%|▌         | 98304/1648877 [00:02<00:29, 52240.55it/s]\n",
      "\n",
      "  8%|▊         | 131072/1648877 [00:02<00:21, 69801.85it/s]\n",
      "\n",
      "  9%|▉         | 155648/1648877 [00:02<00:19, 75779.86it/s]\n",
      "\n",
      " 11%|█         | 180224/1648877 [00:03<00:15, 94402.04it/s]\n",
      "\n",
      " 13%|█▎        | 221184/1648877 [00:03<00:13, 105693.19it/s]\n",
      "\n",
      " 15%|█▌        | 253952/1648877 [00:03<00:10, 127708.90it/s]\n",
      "\n",
      " 17%|█▋        | 278528/1648877 [00:03<00:10, 125444.26it/s]\n",
      "\n",
      " 19%|█▉        | 311296/1648877 [00:03<00:08, 150833.91it/s]\n",
      "\n",
      " 21%|██        | 344064/1648877 [00:03<00:09, 144546.16it/s]\n",
      "\n",
      " 23%|██▎       | 376832/1648877 [00:04<00:07, 172762.33it/s]\n",
      "\n",
      " 25%|██▌       | 417792/1648877 [00:04<00:07, 166669.74it/s]\n",
      "\n",
      " 28%|██▊       | 458752/1648877 [00:04<00:06, 194464.00it/s]\n",
      "\n",
      " 30%|██▉       | 491520/1648877 [00:04<00:06, 177305.49it/s]\n",
      "\n",
      " 32%|███▏      | 524288/1648877 [00:04<00:05, 199177.34it/s]\n",
      "\n",
      " 34%|███▍      | 565248/1648877 [00:05<00:05, 194711.41it/s]\n",
      "\n",
      " 36%|███▋      | 598016/1648877 [00:05<00:05, 209800.11it/s]\n",
      "\n",
      " 38%|███▊      | 622592/1648877 [00:05<00:08, 122677.65it/s]\n",
      "\n",
      " 43%|████▎     | 712704/1648877 [00:05<00:05, 158471.69it/s]\n",
      "\n",
      " 45%|████▌     | 745472/1648877 [00:05<00:05, 165868.95it/s]\n",
      "\n",
      " 47%|████▋     | 778240/1648877 [00:06<00:05, 160610.53it/s]\n",
      "\n",
      " 49%|████▊     | 802816/1648877 [00:06<00:05, 166513.53it/s]\n",
      "\n",
      " 51%|█████     | 835584/1648877 [00:06<00:04, 174817.89it/s]\n",
      "\n",
      " 52%|█████▏    | 860160/1648877 [00:06<00:04, 184390.91it/s]\n",
      "\n",
      " 54%|█████▍    | 892928/1648877 [00:06<00:03, 201626.27it/s]\n",
      "\n",
      " 56%|█████▌    | 917504/1648877 [00:06<00:04, 177691.56it/s]\n",
      "\n",
      " 57%|█████▋    | 942080/1648877 [00:06<00:03, 187631.60it/s]\n",
      "\n",
      " 60%|█████▉    | 983040/1648877 [00:07<00:03, 198786.01it/s]\n",
      "\n",
      " 61%|██████    | 1007616/1648877 [00:07<00:03, 206472.55it/s]\n",
      "\n",
      " 63%|██████▎   | 1032192/1648877 [00:07<00:02, 214444.56it/s]\n",
      "\n",
      " 65%|██████▍   | 1064960/1648877 [00:07<00:02, 214185.26it/s]\n",
      "\n",
      " 66%|██████▌   | 1089536/1648877 [00:07<00:02, 213871.02it/s]\n",
      "\n",
      " 68%|██████▊   | 1114112/1648877 [00:07<00:02, 221402.55it/s]\n",
      "\n",
      " 69%|██████▉   | 1138688/1648877 [00:07<00:02, 218825.95it/s]\n",
      "\n",
      " 71%|███████   | 1163264/1648877 [00:07<00:02, 223566.67it/s]\n",
      "\n",
      " 72%|███████▏  | 1187840/1648877 [00:08<00:02, 207726.56it/s]\n",
      "\n",
      " 74%|███████▍  | 1220608/1648877 [00:08<00:02, 206276.93it/s]\n",
      "\n",
      " 76%|███████▌  | 1253376/1648877 [00:08<00:01, 219312.96it/s]\n",
      "\n",
      " 78%|███████▊  | 1286144/1648877 [00:08<00:01, 231042.25it/s]\n",
      "\n",
      " 79%|███████▉  | 1310720/1648877 [00:08<00:01, 223510.13it/s]\n",
      "\n",
      " 81%|████████▏ | 1343488/1648877 [00:08<00:01, 208792.00it/s]\n",
      "\n",
      " 83%|████████▎ | 1368064/1648877 [00:08<00:01, 199830.51it/s]\n",
      "\n",
      " 84%|████████▍ | 1392640/1648877 [00:09<00:01, 170145.06it/s]\n",
      "\n",
      "9920512it [00:50, 459822.99it/s]                             \n",
      "\n",
      " 87%|████████▋ | 1441792/1648877 [00:09<00:01, 121257.25it/s]\n",
      "\n",
      " 89%|████████▉ | 1474560/1648877 [00:09<00:01, 132074.72it/s]\n",
      "\n",
      " 90%|█████████ | 1490944/1648877 [00:09<00:01, 133517.83it/s]\n",
      "\n",
      " 91%|█████████▏| 1507328/1648877 [00:10<00:01, 134965.65it/s]\n",
      "\n",
      " 92%|█████████▏| 1523712/1648877 [00:10<00:01, 88840.00it/s] \n",
      "\n",
      " 94%|█████████▍| 1556480/1648877 [00:10<00:00, 106232.84it/s]\n",
      "\n",
      " 95%|█████████▌| 1572864/1648877 [00:10<00:00, 82286.27it/s] \n",
      "\n",
      " 97%|█████████▋| 1605632/1648877 [00:11<00:00, 97339.67it/s]\n",
      "\n",
      "100%|█████████▉| 1646592/1648877 [00:11<00:00, 123366.95it/s]"
     ]
    },
    {
     "name": "stdout",
     "output_type": "stream",
     "text": [
      "Extracting data\\MNIST\\raw\\t10k-images-idx3-ubyte.gz to data\\MNIST\\raw\n",
      "Downloading http://yann.lecun.com/exdb/mnist/t10k-labels-idx1-ubyte.gz to data\\MNIST\\raw\\t10k-labels-idx1-ubyte.gz\n"
     ]
    },
    {
     "name": "stderr",
     "output_type": "stream",
     "text": [
      "\n",
      "\n",
      "\n",
      "0it [00:00, ?it/s]\n",
      "\n",
      "\n",
      "  0%|          | 0/4542 [00:01<?, ?it/s]\n",
      "\n",
      "\n",
      "8192it [00:01, 7269.41it/s]             "
     ]
    },
    {
     "name": "stdout",
     "output_type": "stream",
     "text": [
      "Extracting data\\MNIST\\raw\\t10k-labels-idx1-ubyte.gz to data\\MNIST\\raw\n",
      "Processing...\n",
      "Done!\n"
     ]
    },
    {
     "name": "stderr",
     "output_type": "stream",
     "text": [
      "\n",
      "32768it [00:20, 41504.06it/s]                           \n",
      "\n",
      "1654784it [00:29, 123366.95it/s]                             "
     ]
    }
   ],
   "source": [
    "import torch\n",
    "import numpy as np\n",
    "from torchvision import datasets\n",
    "import torchvision.transforms as transforms\n",
    "\n",
    "# convert data to torch.FloatTensor\n",
    "transform = transforms.ToTensor()\n",
    "\n",
    "# load the training and test datasets\n",
    "train_data = datasets.MNIST(root='data', train=True,\n",
    "                                   download=True, transform=transform)\n",
    "test_data = datasets.MNIST(root='data', train=False,\n",
    "                                  download=True, transform=transform)"
   ]
  },
  {
   "cell_type": "code",
   "execution_count": 2,
   "metadata": {},
   "outputs": [],
   "source": [
    "# Create training and test dataloaders\n",
    "\n",
    "# number of subprocesses to use for data loading\n",
    "num_workers = 0\n",
    "# how many samples per batch to load\n",
    "batch_size = 20\n",
    "\n",
    "# prepare data loaders\n",
    "train_loader = torch.utils.data.DataLoader(train_data, batch_size=batch_size, num_workers=num_workers)\n",
    "test_loader = torch.utils.data.DataLoader(test_data, batch_size=batch_size, num_workers=num_workers)"
   ]
  },
  {
   "cell_type": "markdown",
   "metadata": {},
   "source": [
    "### Visualize the Data"
   ]
  },
  {
   "cell_type": "code",
   "execution_count": 3,
   "metadata": {},
   "outputs": [
    {
     "data": {
      "text/plain": [
       "<matplotlib.image.AxesImage at 0x2252fd704a8>"
      ]
     },
     "execution_count": 3,
     "metadata": {},
     "output_type": "execute_result"
    },
    {
     "data": {
      "image/png": "[encoded data removed]",
      "text/plain": [
       "<Figure size 360x360 with 1 Axes>"
      ]
     },
     "metadata": {
      "needs_background": "light"
     },
     "output_type": "display_data"
    }
   ],
   "source": [
    "import matplotlib.pyplot as plt\n",
    "%matplotlib inline\n",
    "    \n",
    "# obtain one batch of training images\n",
    "dataiter = iter(train_loader)\n",
    "images, labels = dataiter.next()\n",
    "images = images.numpy()\n",
    "\n",
    "# get one image from the batch\n",
    "img = np.squeeze(images[0])\n",
    "\n",
    "fig = plt.figure(figsize = (5,5)) \n",
    "ax = fig.add_subplot(111)\n",
    "ax.imshow(img, cmap='gray')"
   ]
  },
  {
   "cell_type": "markdown",
   "metadata": {},
   "source": [
    "---\n",
    "## Linear Autoencoder\n",
    "\n",
    "We'll train an autoencoder with these images by flattening them into 784 length vectors. The images from this dataset are already normalized such that the values are between 0 and 1. Let's start by building a simple autoencoder. The encoder and decoder should be made of **one linear layer**. The units that connect the encoder and decoder will be the _compressed representation_.\n",
    "\n",
    "Since the images are normalized between 0 and 1, we need to use a **sigmoid activation on the output layer** to get values that match this input value range.\n",
    "\n",
    "<img src='notebook_ims/simple_autoencoder.png' width=50% />\n",
    "\n",
    "\n",
    "#### TODO: Build the graph for the autoencoder in the cell below. \n",
    "> The input images will be flattened into 784 length vectors. The targets are the same as the inputs. \n",
    "> The encoder and decoder will be made of two linear layers, each.\n",
    "> The depth dimensions should change as follows: 784 inputs > **encoding_dim** > 784 outputs.\n",
    "> All layers will have ReLu activations applied except for the final output layer, which has a sigmoid activation.\n",
    "\n",
    "**The compressed representation should be a vector with dimension `encoding_dim=32`.**"
   ]
  },
  {
   "cell_type": "code",
   "execution_count": 4,
   "metadata": {},
   "outputs": [
    {
     "name": "stdout",
     "output_type": "stream",
     "text": [
      "Autoencoder(\n",
      "  (fc1): Linear(in_features=784, out_features=32, bias=True)\n",
      "  (fc2): Linear(in_features=32, out_features=784, bias=True)\n",
      ")\n"
     ]
    }
   ],
   "source": [
    "import torch.nn as nn\n",
    "import torch.nn.functional as F\n",
    "\n",
    "# define the NN architecture\n",
    "class Autoencoder(nn.Module):\n",
    "    def __init__(self, encoding_dim):\n",
    "        super(Autoencoder, self).__init__()\n",
    "        ## encoder ##\n",
    "        self.fc1 = nn.Linear(28*28, encoding_dim)\n",
    "        ## decoder ##\n",
    "        self.fc2 = nn.Linear(encoding_dim, 28*28)\n",
    "\n",
    "    def forward(self, x):\n",
    "        # define feedforward behavior \n",
    "        # and scale the *output* layer with a sigmoid activation function\n",
    "        x = F.relu(self.fc1(x))\n",
    "        x = F.sigmoid(self.fc2(x))\n",
    "        return x\n",
    "\n",
    "# initialize the NN\n",
    "encoding_dim = 32\n",
    "model = Autoencoder(encoding_dim)\n",
    "print(model)"
   ]
  },
  {
   "cell_type": "markdown",
   "metadata": {},
   "source": [
    "---\n",
    "## Training\n",
    "\n",
    "Here I'll write a bit of code to train the network. I'm not too interested in validation here, so I'll just monitor the training loss and the test loss afterwards. \n",
    "\n",
    "We are not concerned with labels in this case, just images, which we can get from the `train_loader`. Because we're comparing pixel values in input and output images, it will be best to use a loss that is meant for a regression task. Regression is all about comparing _quantities_ rather than probabilistic values. So, in this case, I'll use `MSELoss`. And compare output images and input images as follows:\n",
    "```\n",
    "loss = criterion(outputs, images)\n",
    "```\n",
    "\n",
    "Otherwise, this is pretty straightfoward training with PyTorch. We flatten our images, pass them into the autoencoder, and record the training loss as we go."
   ]
  },
  {
   "cell_type": "code",
   "execution_count": 5,
   "metadata": {},
   "outputs": [],
   "source": [
    "# specify loss function\n",
    "criterion = nn.MSELoss()\n",
    "\n",
    "# specify loss function\n",
    "optimizer = torch.optim.Adam(model.parameters(), lr=0.001)"
   ]
  },
  {
   "cell_type": "code",
   "execution_count": 6,
   "metadata": {},
   "outputs": [
    {
     "name": "stderr",
     "output_type": "stream",
     "text": [
      "C:\\Users\\asrivastava01\\AppData\\Local\\Continuum\\anaconda3\\lib\\site-packages\\torch\\nn\\functional.py:1350: UserWarning: nn.functional.sigmoid is deprecated. Use torch.sigmoid instead.\n",
      "  warnings.warn(\"nn.functional.sigmoid is deprecated. Use torch.sigmoid instead.\")\n"
     ]
    },
    {
     "name": "stdout",
     "output_type": "stream",
     "text": [
      "Epoch: 1 \tTraining Loss: 0.700308\n",
      "Epoch: 2 \tTraining Loss: 0.394211\n",
      "Epoch: 3 \tTraining Loss: 0.354557\n",
      "Epoch: 4 \tTraining Loss: 0.345495\n",
      "Epoch: 5 \tTraining Loss: 0.341684\n",
      "Epoch: 6 \tTraining Loss: 0.339715\n",
      "Epoch: 7 \tTraining Loss: 0.338246\n",
      "Epoch: 8 \tTraining Loss: 0.337037\n",
      "Epoch: 9 \tTraining Loss: 0.336085\n",
      "Epoch: 10 \tTraining Loss: 0.335220\n",
      "Epoch: 11 \tTraining Loss: 0.334330\n",
      "Epoch: 12 \tTraining Loss: 0.333501\n",
      "Epoch: 13 \tTraining Loss: 0.332746\n",
      "Epoch: 14 \tTraining Loss: 0.332017\n",
      "Epoch: 15 \tTraining Loss: 0.331314\n",
      "Epoch: 16 \tTraining Loss: 0.330646\n",
      "Epoch: 17 \tTraining Loss: 0.330019\n",
      "Epoch: 18 \tTraining Loss: 0.329421\n",
      "Epoch: 19 \tTraining Loss: 0.328854\n",
      "Epoch: 20 \tTraining Loss: 0.328312\n"
     ]
    }
   ],
   "source": [
    "# number of epochs to train the model\n",
    "n_epochs = 20\n",
    "\n",
    "for epoch in range(1, n_epochs+1):\n",
    "    # monitor training loss\n",
    "    train_loss = 0.0\n",
    "    \n",
    "    ###################\n",
    "    # train the model #\n",
    "    ###################\n",
    "    for data in train_loader:\n",
    "        # _ stands in for labels, here\n",
    "        images, _ = data\n",
    "        # flatten images\n",
    "        images = images.view(images.size(0), -1)\n",
    "        # clear the gradients of all optimized variables\n",
    "        optimizer.zero_grad()\n",
    "        # forward pass: compute predicted outputs by passing inputs to the model\n",
    "        outputs = model(images)\n",
    "        # calculate the loss\n",
    "        loss = criterion(outputs, images)\n",
    "        # backward pass: compute gradient of the loss with respect to model parameters\n",
    "        loss.backward()\n",
    "        # perform a single optimization step (parameter update)\n",
    "        optimizer.step()\n",
    "        # update running training loss\n",
    "        train_loss += loss.item()*images.size(0)\n",
    "            \n",
    "    # print avg training statistics \n",
    "    train_loss = train_loss/len(train_loader)\n",
    "    print('Epoch: {} \\tTraining Loss: {:.6f}'.format(\n",
    "        epoch, \n",
    "        train_loss\n",
    "        ))"
   ]
  },
  {
   "cell_type": "markdown",
   "metadata": {},
   "source": [
    "## Checking out the results\n",
    "\n",
    "Below I've plotted some of the test images along with their reconstructions. For the most part these look pretty good except for some blurriness in some parts."
   ]
  },
  {
   "cell_type": "code",
   "execution_count": 7,
   "metadata": {},
   "outputs": [
    {
     "data": {
      "image/png": "[encoded data removed]",
      "text/plain": [
       "<Figure size 1800x288 with 20 Axes>"
      ]
     },
     "metadata": {
      "needs_background": "light"
     },
     "output_type": "display_data"
    }
   ],
   "source": [
    "# obtain one batch of test images\n",
    "dataiter = iter(test_loader)\n",
    "images, labels = dataiter.next()\n",
    "\n",
    "images_flatten = images.view(images.size(0), -1)\n",
    "# get sample outputs\n",
    "output = model(images_flatten)\n",
    "# prep images for display\n",
    "images = images.numpy()\n",
    "\n",
    "# output is resized into a batch of images\n",
    "output = output.view(batch_size, 1, 28, 28)\n",
    "# use detach when it's an output that requires_grad\n",
    "output = output.detach().numpy()\n",
    "\n",
    "# plot the first ten input images and then reconstructed images\n",
    "fig, axes = plt.subplots(nrows=2, ncols=10, sharex=True, sharey=True, figsize=(25,4))\n",
    "\n",
    "# input images on top row, reconstructions on bottom\n",
    "for images, row in zip([images, output], axes):\n",
    "    for img, ax in zip(images, row):\n",
    "        ax.imshow(np.squeeze(img), cmap='gray')\n",
    "        ax.get_xaxis().set_visible(False)\n",
    "        ax.get_yaxis().set_visible(False)"
   ]
  },
  {
   "cell_type": "markdown",
   "metadata": {
    "collapsed": true
   },
   "source": [
    "## Up Next\n",
    "\n",
    "We're dealing with images here, so we can (usually) get better performance using convolution layers. So, next we'll build a better autoencoder with convolutional layers."
   ]
  }
 ],
 "metadata": {
  "kernelspec": {
   "display_name": "Python 3",
   "language": "python",
   "name": "python3"
  },
  "language_info": {
   "codemirror_mode": {
    "name": "ipython",
    "version": 3
   },
   "file_extension": ".py",
   "mimetype": "text/x-python",
   "name": "python",
   "nbconvert_exporter": "python",
   "pygments_lexer": "ipython3",
   "version": "3.7.1"
  }
 },
 "nbformat": 4,
 "nbformat_minor": 2
}
